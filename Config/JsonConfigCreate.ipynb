{
 "cells": [
  {
   "cell_type": "code",
   "execution_count": 28,
   "id": "97b34e33",
   "metadata": {},
   "outputs": [
    {
     "name": "stdout",
     "output_type": "stream",
     "text": [
      "Which file would you like to open? suratITMS\n",
      "The file must be in .csv format. Please retry: suratITMS.csv\n",
      "Which column would you like to search for duplicates? license_plate\n",
      "Write successful\n"
     ]
    }
   ],
   "source": [
    "import json\n",
    "import pandas as pd\n",
    "\n",
    "#initializing and clearing variables\n",
    "userfile_name = ''\n",
    "usercolumn_name = ''\n",
    "\n",
    "#file format validation\n",
    "def format_check(prompt = 'Which file would you like to open? '):\n",
    "    userfile_name = input(prompt)\n",
    "    if userfile_name[-4:] in ('.csv'): return userfile_name\n",
    "    return format_check(prompt = 'The file must be in .csv format. Please retry: ')\n",
    "\n",
    "#column existence validation\n",
    "def column_check(prompt = 'Which column would you like to search for duplicates? '):\n",
    "    usercolumn_name = input(prompt)\n",
    "    if usercolumn_name in df: return usercolumn_name\n",
    "    return column_check(prompt = 'This column does not exist in the dataset. Please retry: ')\n",
    "\n",
    "#reading the file and checking for exceptions\n",
    "while True:\n",
    "    userfile_name = format_check()\n",
    "    try:\n",
    "        df = pd.read_csv(userfile_name, parse_dates = ['observationDateTime'])\n",
    "    except:\n",
    "        print(\"This file does not exist. Please enter a valid file name. \")\n",
    "    else:\n",
    "        break\n",
    "\n",
    "usercolumn_name = column_check()\n",
    "\n",
    "input_param = {\n",
    "    \"filename\": userfile_name,\n",
    "    \"column_name\": usercolumn_name\n",
    "}\n",
    "\n",
    "myJSON = json.dumps(input_param)\n",
    "\n",
    "with open(\"Config.json\", \"w\") as jsonfile:\n",
    "    jsonfile.write(myJSON)\n",
    "    print(\"Write successful\")"
   ]
  },
  {
   "cell_type": "code",
   "execution_count": null,
   "id": "8a87b89d",
   "metadata": {},
   "outputs": [],
   "source": []
  },
  {
   "cell_type": "code",
   "execution_count": null,
   "id": "2716852d",
   "metadata": {},
   "outputs": [],
   "source": []
  }
 ],
 "metadata": {
  "kernelspec": {
   "display_name": "Python 3 (ipykernel)",
   "language": "python",
   "name": "python3"
  },
  "language_info": {
   "codemirror_mode": {
    "name": "ipython",
    "version": 3
   },
   "file_extension": ".py",
   "mimetype": "text/x-python",
   "name": "python",
   "nbconvert_exporter": "python",
   "pygments_lexer": "ipython3",
   "version": "3.9.7"
  }
 },
 "nbformat": 4,
 "nbformat_minor": 5
}
